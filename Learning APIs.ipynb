{
 "cells": [
  {
   "cell_type": "code",
   "execution_count": 1,
   "metadata": {
    "collapsed": true
   },
   "outputs": [],
   "source": [
    "import urllib2\n",
    "import json"
   ]
  },
  {
   "cell_type": "code",
   "execution_count": 11,
   "metadata": {
    "collapsed": false
   },
   "outputs": [],
   "source": [
    "sunlight_cr_key = \"e9312b2c31f14b8fb25ddb715ca6df2d\"\n",
    "\n",
    "api_key_nums = sunlight_cr_key\n",
    "api_key_spec = \"&apikey=<\"\n",
    "api_key = \"&apikey=<\" + sunlight_cr_key + \">\"\n",
    "\n",
    "url_root = 'http://capitolwords.org/api/1/dates.json?phrase='\n",
    "    \n",
    "#json_obj = urllib2.urlopen('url_root')\n",
    "\n",
    "#data = json.load(json_obj)"
   ]
  },
  {
   "cell_type": "code",
   "execution_count": null,
   "metadata": {
    "collapsed": true
   },
   "outputs": [],
   "source": [
    "#Record Search Function Definition \n",
    "\n",
    "def record_search(query, state=\"none\", party=\"none\", chamber=\"none\", \n",
    "                  date=\"none\", start_date=\"none\", end_date=\"none\", \n",
    "                  bioguide_id=\"none\", mincount=\"none\", percentages=\"none\",\n",
    "                  granularity=\"none\"):\n",
    "    '''Searches the congressional record for word or phrase query\n",
    "       \n",
    "       query: Word or Phrase you would like to search the record for\n",
    "       \n",
    "       Optional Arguments:\n",
    "       \n",
    "       state: Limit results to members of Congress from the given state\n",
    "                         Valid values: 2-letter state abbreviation, such as MD, VA, DC\n",
    "       \n",
    "       party: Limit results to members of Congress from the given party\n",
    "                         Valid values: R, D, I\n",
    "       \n",
    "       chamber: The chamber to search. Default includes House, Senate and extensions of remarks\n",
    "                        Valid values: house, senate, extensions\n",
    "       \n",
    "       date: Show results for only the given date\n",
    "       \n",
    "       start_date: Limit results to those on or after the given date\n",
    "       \n",
    "       end_date: Limit results to those on or before the given date\n",
    "       \n",
    "       bioguide_id: Limit results to the member of Congress with the given Bioguide ID\n",
    "       \n",
    "       mincount: Only return results where mentions are at or above the supplied threshold\n",
    "       \n",
    "       percentages: Include the percentage of mentions versus total words in the result objects.\n",
    "                    Valid values: true, false (default)\n",
    "       \n",
    "       granularity: The length of time covered by each result.\n",
    "                    Valid values: year, month, day (default)\n",
    "       '''\n",
    "    final_query = query.replace(' ', '+')\n",
    "    json_obj = urllib2.urlopen(final_url)\n",
    "    data = json.load(json_obj)\n",
    "    \n",
    "    if state!=\"none\":\n",
    "        entity_1 = \"&entity_type=\"\n",
    "        entity_2 = \"&entity_value=\"\n",
    "        if len(state)!=2:\n",
    "            raise Error(\"Entry must be two letter state code eg 'PA'\")\n",
    "        else: \n",
    "            final_url = url_root + final_query + entity_1 + \"state\" + entity_2 + state + api_key\n",
    "            \n",
    "    elif party!=\"none\":\n",
    "        if party!='R' and party!='D' and party!='I':\n",
    "            raise Error(\"Entry must be either 'R' or 'D' or 'I'\")\n",
    "        else: \n",
    "            final_url = url_root + final_query + \"&party=\" + party + api_key\n",
    "    \n",
    "    elif chamber!=\"none\": \n",
    "        if chamber!=\"house\" and chamber!='senate' and chamber!='extensions':\n",
    "            raise Error(\"Entry must be either 'house', 'senate' or 'extensions'\")\n",
    "        else: \n",
    "            final_url = url_root + final_query + \"&party=\" + party + api_key\n",
    "    elif date!=\"none\": \n",
    "    elif start_date!=\"none\":\n",
    "    elif end_date!=\"none\":\n",
    "    elif bioguide_id!=\"none\":\n",
    "    elif mincount!=\"none\": \n",
    "    elif percentages!=\"none\":\n",
    "    elif granularity!=\"none\":\n",
    "    \n",
    "    else: \n",
    "        final_url = url_root + final_query + api_key\n",
    "    \n",
    "    for item in data:\n",
    "        print item\n",
    "    \n"
   ]
  },
  {
   "cell_type": "code",
   "execution_count": 6,
   "metadata": {
    "collapsed": false
   },
   "outputs": [
    {
     "name": "stdout",
     "output_type": "stream",
     "text": [
      "&apikey=<e9312b2c31f14b8fb25ddb715ca6df2d>\n"
     ]
    }
   ],
   "source": [
    "api_key_nums = sunlight_cr_key\n",
    "api_key_spec = \"&apikey=<\"\n",
    "api_key = \"&apikey=<\" + sunlight_cr_key + \">\"\n",
    "print api_key"
   ]
  },
  {
   "cell_type": "code",
   "execution_count": null,
   "metadata": {
    "collapsed": true
   },
   "outputs": [],
   "source": [
    "dates.json?phrase=united+states&apikey=<YOUR_KEY>\n",
    "dates.json?phrase=united+states&entity_type=state&entity_value=VA&apikey=<YOUR_KEY>\n",
    "dates.json?phrase=united+states&start_date=2009-01-01&end_date=2009-06-01&apikey=<YOUR_KEY>\n",
    "dates.json?phrase=united+states&start_date=2009-01-01&end_date=2009-04-30&granularity=month&apikey=<YOUR_KEY>"
   ]
  },
  {
   "cell_type": "code",
   "execution_count": 10,
   "metadata": {
    "collapsed": false
   },
   "outputs": [
    {
     "name": "stdout",
     "output_type": "stream",
     "text": [
      "http://capitolwords.org/api/1/dates.json?phrase=University+of+Scranton&apikey=<e9312b2c31f14b8fb25ddb715ca6df2d>\n"
     ]
    }
   ],
   "source": [
    "query = \"University of Scranton\"\n",
    "final_query = query.replace(' ', '+')\n",
    "final_url = url_root + final_query + api_key\n"
   ]
  },
  {
   "cell_type": "code",
   "execution_count": null,
   "metadata": {
    "collapsed": true
   },
   "outputs": [],
   "source": []
  }
 ],
 "metadata": {
  "kernelspec": {
   "display_name": "Python 2",
   "language": "python",
   "name": "python2"
  },
  "language_info": {
   "codemirror_mode": {
    "name": "ipython",
    "version": 2
   },
   "file_extension": ".py",
   "mimetype": "text/x-python",
   "name": "python",
   "nbconvert_exporter": "python",
   "pygments_lexer": "ipython2",
   "version": "2.7.10"
  }
 },
 "nbformat": 4,
 "nbformat_minor": 0
}
